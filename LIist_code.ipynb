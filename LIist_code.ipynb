{
 "cells": [
  {
   "cell_type": "markdown",
   "id": "e0ffaca6",
   "metadata": {},
   "source": [
    "Use best approach you know for below problem statements.\n",
    "\n",
    "Program should accept an argument “N” from console of type integer.\n",
    "\n",
    "Generate a list original_list of odd number from 1 to N.\n",
    "\n",
    "Create a new list squared_list which has squares of old list orignal_list.\n",
    "\n",
    "Subtract 1 from each element of squared_list and store it in final_list.\n",
    "\n"
   ]
  },
  {
   "cell_type": "code",
   "execution_count": 8,
   "id": "f1e74855",
   "metadata": {},
   "outputs": [
    {
     "name": "stdout",
     "output_type": "stream",
     "text": [
      "Enter an integer: 5\n",
      "[1, 3, 5]\n",
      "Final list: [0, 8, 24]\n"
     ]
    }
   ],
   "source": [
    "def final_list(N):\n",
    "    # list of odd numbers\n",
    "    original_list = [i for i in range(1, N+1, 2)]\n",
    "#     print(original_list)\n",
    "    # squired list\n",
    "    squared_list = [i ** 2 for i in original_list]\n",
    "    \n",
    "    # Subtract 1 from each element of squared_list and store it in final_list.\n",
    "    final_list = [i - 1 for i in squared_list]\n",
    "    \n",
    "    return final_list\n",
    "\n",
    "\n",
    "# Enter user input   \n",
    "N = int(input(\"Enter an integer: \"))\n",
    "result = final_list(N)\n",
    "print(f\"Final list: {result}\") "
   ]
  },
  {
   "cell_type": "code",
   "execution_count": null,
   "id": "73cc411a",
   "metadata": {},
   "outputs": [],
   "source": []
  }
 ],
 "metadata": {
  "kernelspec": {
   "display_name": "Python 3 (ipykernel)",
   "language": "python",
   "name": "python3"
  },
  "language_info": {
   "codemirror_mode": {
    "name": "ipython",
    "version": 3
   },
   "file_extension": ".py",
   "mimetype": "text/x-python",
   "name": "python",
   "nbconvert_exporter": "python",
   "pygments_lexer": "ipython3",
   "version": "3.10.5"
  }
 },
 "nbformat": 4,
 "nbformat_minor": 5
}
